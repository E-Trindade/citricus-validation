{
 "cells": [
  {
   "cell_type": "code",
   "execution_count": 8,
   "metadata": {},
   "outputs": [],
   "source": [
    "import pandas as pd\n",
    "from pynif import NIFCollection\n",
    "import requests\n",
    "import time"
   ]
  },
  {
   "cell_type": "code",
   "execution_count": 9,
   "metadata": {
    "scrolled": true
   },
   "outputs": [
    {
     "name": "stdout",
     "output_type": "stream",
     "text": [
      "Two friends in their early 20s ( Hill and Teller ) living in Miami Beach during the Iraq War exploit a little-known government initiative that allows small businesses to bid on U.S. Military contracts. Starting small, they begin raking in big money and are living the high life. \n",
      "\t<NIFPhrase 61-72: 'Miami Beach'>\n",
      "\t<NIFPhrase 42-48: 'Teller'>\n",
      "\t<NIFPhrase 33-37: 'Hill'>\n",
      "When Daniel Ocean is released from prison in New Jersey, his next heist is already planned. Danny's target are three Las Vegas casinos : The Bellagio, the Mirage and the MGM Grand. They all belong to ruthless entrepreneur Terry Benedict, who, by the way, also shows a certain interest in Danny's beautiful ex-wife Tess. \n",
      "\t<NIFPhrase 117-134: 'Las Vegas casinos'>\n",
      "\t<NIFPhrase 5-17: 'Daniel Ocean'>\n",
      "\t<NIFPhrase 92-99: \"Danny's\">\n",
      "\t<NIFPhrase 151-161: 'the Mirage'>\n",
      "\t<NIFPhrase 222-236: 'Terry Benedict'>\n",
      "\t<NIFPhrase 45-55: 'New Jersey'>\n",
      "\t<NIFPhrase 137-149: 'The Bellagio'>\n",
      "\t<NIFPhrase 288-295: \"Danny's\">\n",
      "\t<NIFPhrase 314-318: 'Tess'>\n",
      "\t<NIFPhrase 166-179: 'the MGM Grand'>\n"
     ]
    }
   ],
   "source": [
    "s = \"\"\n",
    "with open ('./training/oke17task1Training.xml.ttl') as f:\n",
    "    s = f.read()\n",
    "oke_task1_col = NIFCollection.loads(s, format='turtle')\n",
    "\n",
    "for context in oke_task1_col.contexts[:2]:\n",
    "    print(context.mention)\n",
    "    for phrase in context.phrases:\n",
    "        print(f'\\t{phrase}')"
   ]
  },
  {
   "cell_type": "code",
   "execution_count": 10,
   "metadata": {},
   "outputs": [
    {
     "name": "stdout",
     "output_type": "stream",
     "text": [
      "On the day that Hurricane Katrina hits New Orleans, elderly Daisy Williams (nee Fuller) is on her deathbed in a New Orleans hospital. At her side is her adult daughter, Caroline. Daisy asks Caroline to read to her aloud the diary of Daisy's lifelong friend, Benjamin Button. Benjamin's diary recounts his entire extraordinary life, the primary unusual aspect of which was his aging backwards, being diagnosed with several aging diseases at birth and thus given little chance of survival, but who does survive and gets younger with time. \n",
      "\t<NIFPhrase 39-50: 'New Orleans'>\n",
      "\t<NIFPhrase 258-273: 'Benjamin Button'>\n",
      "\t<NIFPhrase 112-132: 'New Orleans hospital'>\n",
      "\t<NIFPhrase 179-184: 'Daisy'>\n",
      "\t<NIFPhrase 169-177: 'Caroline'>\n",
      "\t<NIFPhrase 60-87: 'Daisy Williams (nee Fuller)'>\n",
      "\t<NIFPhrase 190-198: 'Caroline'>\n",
      "Emma Stone sure knows the best way around a hackneyed red carpet question. The “La La Land” star stopped to speak with Ryan Seacrest on the red carpet ahead of Sunday’s Golden Globes and was, of course, faced with the ever-predictable prompt: “Tell me about your dress.” Stone, the fabulous wonder that she is, had the perfect reply. \n",
      "\t<NIFPhrase 160-182: 'Sunday’s Golden Globes'>\n",
      "\t<NIFPhrase 119-132: 'Ryan Seacrest'>\n",
      "\t<NIFPhrase 271-276: 'Stone'>\n",
      "\t<NIFPhrase 0-10: 'Emma Stone'>\n",
      "\t<NIFPhrase 80-90: 'La La Land'>\n"
     ]
    }
   ],
   "source": [
    "s = \"\"\n",
    "with open ('./training/oke17task2Training.xml.ttl') as f:\n",
    "    s = f.read()\n",
    "    \n",
    "oke_task2_col = NIFCollection.loads(s, format='turtle')\n",
    "\n",
    "for context in oke_task2_col.contexts[:2]:\n",
    "    print(context.mention)\n",
    "    for phrase in context.phrases:\n",
    "        print(f'\\t{phrase}')"
   ]
  },
  {
   "cell_type": "code",
   "execution_count": 11,
   "metadata": {},
   "outputs": [],
   "source": [
    "def get_scores(spots, ground_truth):\n",
    "#     spots = sorted(spots, key=lambda s: s['offset'])\n",
    "#     ground_truth = sorted(ground_truth, key=lambda s: s.beginIndex)\n",
    "    true_positives = 0\n",
    "    false_positives = 0\n",
    "    false_negatives = 0\n",
    "    \n",
    "    for spot in spots:\n",
    "        matching = [x for x in ground_truth if x.beginIndex == spot['offset']]\n",
    "        if not matching:\n",
    "            false_positives += 1\n",
    "            continue\n",
    "        matching = matching[0]\n",
    "        if spot['uri'] != matching.taIdentRef:\n",
    "            false_positives += 1\n",
    "            continue\n",
    "        true_positives += 1\n",
    "    for true_spot in ground_truth:\n",
    "        matching = [x for x in spots if true_spot.beginIndex == x['offset']]\n",
    "        if not matching:\n",
    "            false_negatives += 1\n",
    "#     print(f'tp: {true_positives} fp: {false_positives} fn: {false_negatives}')\n",
    "    \n",
    "    precision = 0\n",
    "    recall = 0\n",
    "    f1 = 0\n",
    "    \n",
    "    if true_positives + false_positives + false_negatives == 0:\n",
    "        # Empty gold standard. Set all as 1\n",
    "        precision = 1\n",
    "        recall = 1\n",
    "    \n",
    "    if true_positives + false_positives != 0:\n",
    "        precision = true_positives / (true_positives + false_positives)\n",
    "    if true_positives + false_negatives != 0:\n",
    "        recall = true_positives / (true_positives + false_negatives)\n",
    "    if precision + recall > 0:\n",
    "        f1 = 2 * precision * recall / (precision + recall)\n",
    "    \n",
    "    return {\n",
    "        'tp': true_positives,\n",
    "        'fp': false_positives,\n",
    "        'fn': false_negatives,\n",
    "        'macro_precision': precision,\n",
    "        'recall': recall,\n",
    "        'f1': f1\n",
    "    }"
   ]
  },
  {
   "cell_type": "code",
   "execution_count": 12,
   "metadata": {},
   "outputs": [],
   "source": [
    "def _test_context(context, service_url, filter_policy):\n",
    "    body = {\n",
    "        'text': context.mention,\n",
    "        'filter_policy': filter_policy\n",
    "    }\n",
    "    spots = requests.post(service_url, json=body).json()\n",
    "    scores = get_scores(spots['data'], context.phrases)\n",
    "    \n",
    "    return scores\n",
    "\n",
    "def test_collection(collection, service_url, filter_policy = 'NONE'):\n",
    "    results = []\n",
    "    for context in collection.contexts:\n",
    "        result = _test_context(context, service_url, filter_policy)\n",
    "        result['uri'] = context.uri\n",
    "        results.append(result)\n",
    "        time.sleep(0.5)\n",
    "    return pd.DataFrame(results)"
   ]
  },
  {
   "cell_type": "code",
   "execution_count": 13,
   "metadata": {},
   "outputs": [
    {
     "name": "stdout",
     "output_type": "stream",
     "text": [
      "   tp  fp  fn  macro_precision    recall        f1  \\\n",
      "0   0   2   2         0.000000  0.000000  0.000000   \n",
      "1   1   4   9         0.200000  0.100000  0.133333   \n",
      "2   4   2   0         0.666667  1.000000  0.800000   \n",
      "3   6   2   1         0.750000  0.857143  0.800000   \n",
      "4   4   6   2         0.400000  0.666667  0.500000   \n",
      "\n",
      "                                                 uri  \n",
      "0  http://www.ontologydesignpatterns.org/data/oke...  \n",
      "1  http://www.ontologydesignpatterns.org/data/oke...  \n",
      "2  http://www.ontologydesignpatterns.org/data/oke...  \n",
      "3  http://www.ontologydesignpatterns.org/data/oke...  \n",
      "4  http://www.ontologydesignpatterns.org/data/oke...  \n",
      "   tp  fp  fn  macro_precision    recall        f1  \\\n",
      "0   1   7   2         0.125000  0.333333  0.181818   \n",
      "1   3   3   2         0.500000  0.600000  0.545455   \n",
      "2   6   2   5         0.750000  0.545455  0.631579   \n",
      "3   0  15   0         0.000000  0.000000  0.000000   \n",
      "4   2   5   3         0.285714  0.400000  0.333333   \n",
      "\n",
      "                                                 uri  \n",
      "0  http://www.ontologydesignpatterns.org/data/oke...  \n",
      "1  http://www.ontologydesignpatterns.org/data/oke...  \n",
      "2  http://www.ontologydesignpatterns.org/data/oke...  \n",
      "3  http://www.ontologydesignpatterns.org/data/oke...  \n",
      "4  http://www.ontologydesignpatterns.org/data/oke...  \n"
     ]
    }
   ],
   "source": [
    "scores_spotlight = test_collection(oke_task1_col, 'http://localhost:4010/annotate')\n",
    "print(scores_spotlight.head())\n",
    "\n",
    "scores_spotlight2 = test_collection(oke_task2_col, 'http://localhost:4010/annotate')\n",
    "print(scores_spotlight2.head())"
   ]
  },
  {
   "cell_type": "code",
   "execution_count": 14,
   "metadata": {},
   "outputs": [
    {
     "name": "stdout",
     "output_type": "stream",
     "text": [
      "   tp  fp  fn  macro_precision    recall        f1  \\\n",
      "0   0   0   3         0.000000  0.000000  0.000000   \n",
      "1   2   7   3         0.222222  0.400000  0.285714   \n",
      "2   4   0   2         1.000000  0.666667  0.800000   \n",
      "3   1   7   0         0.125000  1.000000  0.222222   \n",
      "4   2   2   2         0.500000  0.500000  0.500000   \n",
      "\n",
      "                                                 uri  \n",
      "0  http://www.ontologydesignpatterns.org/data/oke...  \n",
      "1  http://www.ontologydesignpatterns.org/data/oke...  \n",
      "2  http://www.ontologydesignpatterns.org/data/oke...  \n",
      "3  http://www.ontologydesignpatterns.org/data/oke...  \n",
      "4  http://www.ontologydesignpatterns.org/data/oke...  \n",
      "   tp  fp  fn  macro_precision    recall        f1  \\\n",
      "0   1   8   0         0.111111  1.000000  0.200000   \n",
      "1   2   1   3         0.666667  0.400000  0.500000   \n",
      "2   4   4   4         0.500000  0.500000  0.500000   \n",
      "3   3   0   3         1.000000  0.500000  0.666667   \n",
      "4   4   3   2         0.571429  0.666667  0.615385   \n",
      "\n",
      "                                                 uri  \n",
      "0  http://www.ontologydesignpatterns.org/data/oke...  \n",
      "1  http://www.ontologydesignpatterns.org/data/oke...  \n",
      "2  http://www.ontologydesignpatterns.org/data/oke...  \n",
      "3  http://www.ontologydesignpatterns.org/data/oke...  \n",
      "4  http://www.ontologydesignpatterns.org/data/oke...  \n"
     ]
    }
   ],
   "source": [
    "scores_fox = test_collection(oke_task1_col, 'http://localhost:4020/annotate')\n",
    "print(scores_fox.head())\n",
    "\n",
    "scores_fox2 = test_collection(oke_task2_col, 'http://localhost:4020/annotate')\n",
    "print(scores_fox2.head())"
   ]
  },
  {
   "cell_type": "code",
   "execution_count": 16,
   "metadata": {},
   "outputs": [
    {
     "name": "stdout",
     "output_type": "stream",
     "text": [
      "   tp  fp  fn  macro_precision    recall        f1  \\\n",
      "0   0   1   3         0.000000  0.000000  0.000000   \n",
      "1   2   3   7         0.400000  0.222222  0.285714   \n",
      "2   5   1   0         0.833333  1.000000  0.909091   \n",
      "3   1   3   5         0.250000  0.166667  0.200000   \n",
      "4   3   3   2         0.500000  0.600000  0.545455   \n",
      "\n",
      "                                                 uri  \n",
      "0  http://www.ontologydesignpatterns.org/data/oke...  \n",
      "1  http://www.ontologydesignpatterns.org/data/oke...  \n",
      "2  http://www.ontologydesignpatterns.org/data/oke...  \n",
      "3  http://www.ontologydesignpatterns.org/data/oke...  \n",
      "4  http://www.ontologydesignpatterns.org/data/oke...  \n",
      "   tp  fp  fn  macro_precision    recall        f1  \\\n",
      "0   1   1   6             0.50  0.142857  0.222222   \n",
      "1   2   2   3             0.50  0.400000  0.444444   \n",
      "2   4   1   6             0.80  0.400000  0.533333   \n",
      "3   0  10   4             0.00  0.000000  0.000000   \n",
      "4   3   1   5             0.75  0.375000  0.500000   \n",
      "\n",
      "                                                 uri  \n",
      "0  http://www.ontologydesignpatterns.org/data/oke...  \n",
      "1  http://www.ontologydesignpatterns.org/data/oke...  \n",
      "2  http://www.ontologydesignpatterns.org/data/oke...  \n",
      "3  http://www.ontologydesignpatterns.org/data/oke...  \n",
      "4  http://www.ontologydesignpatterns.org/data/oke...  \n"
     ]
    }
   ],
   "source": [
    "scores_tagme = test_collection(oke_task1_col, 'http://localhost:4030/annotate')\n",
    "print(scores_tagme.head())\n",
    "\n",
    "scores_tagme2 = test_collection(oke_task2_col, 'http://localhost:4030/annotate')\n",
    "print(scores_tagme2.head())"
   ]
  },
  {
   "cell_type": "code",
   "execution_count": 17,
   "metadata": {},
   "outputs": [
    {
     "name": "stdout",
     "output_type": "stream",
     "text": [
      "   tp  fp  fn  macro_precision  recall        f1  \\\n",
      "0   0   4   1         0.000000    0.00  0.000000   \n",
      "1   2   9   3         0.181818    0.40  0.250000   \n",
      "2   4   2   0         0.666667    1.00  0.800000   \n",
      "3   7   3   0         0.700000    1.00  0.823529   \n",
      "4   3   9   1         0.250000    0.75  0.375000   \n",
      "\n",
      "                                                 uri  \n",
      "0  http://www.ontologydesignpatterns.org/data/oke...  \n",
      "1  http://www.ontologydesignpatterns.org/data/oke...  \n",
      "2  http://www.ontologydesignpatterns.org/data/oke...  \n",
      "3  http://www.ontologydesignpatterns.org/data/oke...  \n",
      "4  http://www.ontologydesignpatterns.org/data/oke...  \n",
      "   tp  fp  fn  macro_precision    recall        f1  \\\n",
      "0   1  10   0         0.090909  1.000000  0.166667   \n",
      "1   3   4   2         0.428571  0.600000  0.500000   \n",
      "2   5   5   4         0.500000  0.555556  0.526316   \n",
      "3   0  17   0         0.000000  0.000000  0.000000   \n",
      "4   4   4   2         0.500000  0.666667  0.571429   \n",
      "\n",
      "                                                 uri  \n",
      "0  http://www.ontologydesignpatterns.org/data/oke...  \n",
      "1  http://www.ontologydesignpatterns.org/data/oke...  \n",
      "2  http://www.ontologydesignpatterns.org/data/oke...  \n",
      "3  http://www.ontologydesignpatterns.org/data/oke...  \n",
      "4  http://www.ontologydesignpatterns.org/data/oke...  \n"
     ]
    }
   ],
   "source": [
    "scores_all_none = test_collection(oke_task1_col, 'http://localhost:4040/annotate')\n",
    "print(scores_all_none.head())\n",
    "\n",
    "scores_all_none2 = test_collection(oke_task2_col, 'http://localhost:4040/annotate')\n",
    "print(scores_all_none2.head())"
   ]
  },
  {
   "cell_type": "code",
   "execution_count": 18,
   "metadata": {},
   "outputs": [
    {
     "name": "stdout",
     "output_type": "stream",
     "text": [
      "   tp  fp  fn  macro_precision    recall        f1  \\\n",
      "0   0   2   2         0.000000  0.000000  0.000000   \n",
      "1   2   3   7         0.400000  0.222222  0.285714   \n",
      "2   4   2   0         0.666667  1.000000  0.800000   \n",
      "3   7   0   1         1.000000  0.875000  0.933333   \n",
      "4   3   2   2         0.600000  0.600000  0.600000   \n",
      "\n",
      "                                                 uri  \n",
      "0  http://www.ontologydesignpatterns.org/data/oke...  \n",
      "1  http://www.ontologydesignpatterns.org/data/oke...  \n",
      "2  http://www.ontologydesignpatterns.org/data/oke...  \n",
      "3  http://www.ontologydesignpatterns.org/data/oke...  \n",
      "4  http://www.ontologydesignpatterns.org/data/oke...  \n",
      "   tp  fp  fn  macro_precision    recall        f1  \\\n",
      "0   1   6   2         0.142857  0.333333  0.200000   \n",
      "1   2   1   3         0.666667  0.400000  0.500000   \n",
      "2   5   1   5         0.833333  0.500000  0.625000   \n",
      "3   0  10   2         0.000000  0.000000  0.000000   \n",
      "4   4   3   2         0.571429  0.666667  0.615385   \n",
      "\n",
      "                                                 uri  \n",
      "0  http://www.ontologydesignpatterns.org/data/oke...  \n",
      "1  http://www.ontologydesignpatterns.org/data/oke...  \n",
      "2  http://www.ontologydesignpatterns.org/data/oke...  \n",
      "3  http://www.ontologydesignpatterns.org/data/oke...  \n",
      "4  http://www.ontologydesignpatterns.org/data/oke...  \n"
     ]
    }
   ],
   "source": [
    "scores_all_r_singles = test_collection(oke_task1_col, 'http://localhost:4040/annotate', filter_policy='REMOVE_SINGLE_SPOTS')\n",
    "print(scores_all_r_singles.head())\n",
    "\n",
    "scores_all_r_singles2 = test_collection(oke_task2_col, 'http://localhost:4040/annotate', filter_policy='REMOVE_SINGLE_SPOTS')\n",
    "print(scores_all_r_singles2.head())"
   ]
  },
  {
   "cell_type": "code",
   "execution_count": 19,
   "metadata": {},
   "outputs": [],
   "source": [
    "scores_spotlight.to_csv('scores/scores_spotlight_oke1.csv', index=False)\n",
    "scores_fox.to_csv('scores/scores_fox_oke1.csv', index=False)\n",
    "scores_tagme.to_csv('scores/scores_tagme_oke1.csv', index=False)\n",
    "scores_all_none.to_csv('scores/scores_all_none_oke1.csv', index=False)\n",
    "scores_all_r_singles.to_csv('scores/scores_all_r_singles_oke1.csv', index=False)\n",
    "\n",
    "scores_spotlight2.to_csv('scores/scores_spotlight_oke2.csv', index=False)\n",
    "scores_fox2.to_csv('scores/scores_fox_oke2.csv', index=False)\n",
    "scores_tagme2.to_csv('scores/scores_tagme_oke2.csv', index=False)\n",
    "scores_all_none2.to_csv('scores/scores_all_none_oke2.csv', index=False)\n",
    "scores_all_r_singles2.to_csv('scores/scores_all_r_singles_oke2.csv', index=False)"
   ]
  }
 ],
 "metadata": {
  "kernelspec": {
   "display_name": "Python 3",
   "language": "python",
   "name": "python3"
  },
  "language_info": {
   "codemirror_mode": {
    "name": "ipython",
    "version": 3
   },
   "file_extension": ".py",
   "mimetype": "text/x-python",
   "name": "python",
   "nbconvert_exporter": "python",
   "pygments_lexer": "ipython3",
   "version": "3.7.5"
  }
 },
 "nbformat": 4,
 "nbformat_minor": 2
}
