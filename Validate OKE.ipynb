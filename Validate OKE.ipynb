{
 "cells": [
  {
   "cell_type": "code",
   "execution_count": 1,
   "metadata": {},
   "outputs": [],
   "source": [
    "import pandas as pd\n",
    "from pynif import NIFCollection\n",
    "import requests\n",
    "import time"
   ]
  },
  {
   "cell_type": "code",
   "execution_count": 2,
   "metadata": {
    "scrolled": true
   },
   "outputs": [
    {
     "name": "stdout",
     "output_type": "stream",
     "text": [
      "Christoph Waltz also portrayed computer genius Qohen Leth in the film The Zero Theorem (2013), American plagiarist Walter Keane in the biographical film Big Eyes (2014), and 007's nemesis and head of SPECTRE Ernst Stavro Blofeld in Spectre (2015). \n",
      "\t<NIFPhrase 208-228: 'Ernst Stavro Blofeld'>\n",
      "\t<NIFPhrase 115-127: 'Walter Keane'>\n",
      "\t<NIFPhrase 174-179: \"007's\">\n",
      "\t<NIFPhrase 47-57: 'Qohen Leth'>\n",
      "\t<NIFPhrase 200-207: 'SPECTRE'>\n",
      "\t<NIFPhrase 0-15: 'Christoph Waltz'>\n",
      "From the largest elephant to the smallest shrew, the city of Zootopia is a mammal metropolis where various animals live and thrive. When Judy Hopps becomes the first rabbit to join the police force, she quickly learns how tough it is to enforce the law. Determined to prove herself, Judy jumps at the opportunity to solve a mysterious case. \n",
      "\t<NIFPhrase 137-147: 'Judy Hopps'>\n",
      "\t<NIFPhrase 283-287: 'Judy'>\n",
      "\t<NIFPhrase 61-69: 'Zootopia'>\n"
     ]
    }
   ],
   "source": [
    "s = \"\"\n",
    "with open ('./training/oke17task1Training.xml.ttl') as f:\n",
    "    s = f.read()\n",
    "oke_task1_col = NIFCollection.loads(s, format='turtle')\n",
    "\n",
    "for context in oke_task1_col.contexts[:2]:\n",
    "    print(context.mention)\n",
    "    for phrase in context.phrases:\n",
    "        print(f'\\t{phrase}')"
   ]
  },
  {
   "cell_type": "code",
   "execution_count": 3,
   "metadata": {},
   "outputs": [
    {
     "name": "stdout",
     "output_type": "stream",
     "text": [
      "The authorities in Augsburg, southern Germany, plan to evacuate 54,000 people from the city centre on Christmas Day because of a World War Two bomb. The 3.8-tonne British bomb was found during construction work. Defusing it is expected to take most of the day. It will be Germany's biggest post-war evacuation for an unexploded bomb, Spiegel news reports. In 2011, 45,000 residents of Koblenz were evacuated. \n",
      "\t<NIFPhrase 102-115: 'Christmas Day'>\n",
      "\t<NIFPhrase 29-45: 'southern Germany'>\n",
      "\t<NIFPhrase 334-341: 'Spiegel'>\n",
      "\t<NIFPhrase 272-281: \"Germany's\">\n",
      "\t<NIFPhrase 19-27: 'Augsburg'>\n",
      "\t<NIFPhrase 129-142: 'World War Two'>\n",
      "\t<NIFPhrase 163-170: 'British'>\n",
      "\t<NIFPhrase 385-392: 'Koblenz'>\n",
      "Miami-born filmmaker Barry Jenkins wrote and directed the film, based on a play by Tarell Alvin McCraney, about a young African American boy named Chiron coming to terms with his sexuality as he grows up in a tough Florida neighbourhood. However, while the shoot took only 25 days, Jenkins says he conceived the project \"at least three-and-a-half years ago\". He explains: \"That's fairly average because it takes a long time for a film to get made. \"So all these movies we have this year - Birth of a Nation, A United Kingdom, Loving, Fences - which are being framed as a reply to the campaign about the lack of diversity in the system, probably began about four years ago. \n",
      "\t<NIFPhrase 526-532: 'Loving'>\n",
      "\t<NIFPhrase 215-222: 'Florida'>\n",
      "\t<NIFPhrase 147-153: 'Chiron'>\n",
      "\t<NIFPhrase 282-289: 'Jenkins'>\n",
      "\t<NIFPhrase 21-34: 'Barry Jenkins'>\n",
      "\t<NIFPhrase 0-5: 'Miami'>\n",
      "\t<NIFPhrase 489-506: 'Birth of a Nation'>\n",
      "\t<NIFPhrase 83-104: 'Tarell Alvin McCraney'>\n",
      "\t<NIFPhrase 120-136: 'African American'>\n",
      "\t<NIFPhrase 534-540: 'Fences'>\n",
      "\t<NIFPhrase 508-524: 'A United Kingdom'>\n"
     ]
    }
   ],
   "source": [
    "s = \"\"\n",
    "with open ('./training/oke17task2Training.xml.ttl') as f:\n",
    "    s = f.read()\n",
    "    \n",
    "oke_task2_col = NIFCollection.loads(s, format='turtle')\n",
    "\n",
    "for context in oke_task2_col.contexts[:2]:\n",
    "    print(context.mention)\n",
    "    for phrase in context.phrases:\n",
    "        print(f'\\t{phrase}')"
   ]
  },
  {
   "cell_type": "code",
   "execution_count": 6,
   "metadata": {},
   "outputs": [],
   "source": [
    "def get_scores(spots, ground_truth):\n",
    "#     spots = sorted(spots, key=lambda s: s['offset'])\n",
    "#     ground_truth = sorted(ground_truth, key=lambda s: s.beginIndex)\n",
    "    true_positives = 0\n",
    "    false_positives = 0\n",
    "    false_negatives = 0\n",
    "    \n",
    "    for spot in spots:\n",
    "        matching = [x for x in ground_truth if x.beginIndex == spot['offset']]\n",
    "        if not matching:\n",
    "            false_positives += 1\n",
    "            continue\n",
    "        matching = matching[0]\n",
    "        if spot['uri'] != matching.taIdentRef:\n",
    "            false_positives += 1\n",
    "        true_positives += 1\n",
    "    for true_spot in ground_truth:\n",
    "        matching = [x for x in spots if true_spot.beginIndex == x['offset']]\n",
    "        if not matching:\n",
    "            false_negatives += 1\n",
    "#     print(f'tp: {true_positives} fp: {false_positives} fn: {false_negatives}')\n",
    "    \n",
    "    precision = 0\n",
    "    recall = 0\n",
    "    f1 = 0\n",
    "    \n",
    "    if true_positives + false_positives + false_negatives == 0:\n",
    "        # Empty gold standard. Set all as 1\n",
    "        precision = 1\n",
    "        recall = 1\n",
    "    \n",
    "    if true_positives + false_positives != 0:\n",
    "        precision = true_positives / (true_positives + false_positives)\n",
    "    if true_positives + false_negatives != 0:\n",
    "        recall = true_positives / (true_positives + false_negatives)\n",
    "    if precision + recall > 0:\n",
    "        f1 = 2 * precision * recall / (precision + recall)\n",
    "    \n",
    "    return {\n",
    "        'tp': true_positives,\n",
    "        'fp': false_positives,\n",
    "        'fn': false_negatives,\n",
    "        'precision': precision,\n",
    "        'recall': recall,\n",
    "        'f1': f1\n",
    "    }"
   ]
  },
  {
   "cell_type": "code",
   "execution_count": 7,
   "metadata": {},
   "outputs": [],
   "source": [
    "def _test_context(context, service_url, filter_policy):\n",
    "    body = {\n",
    "        'text': context.mention,\n",
    "        'filter_policy': filter_policy\n",
    "    }\n",
    "    spots = requests.post(service_url, json=body).json()\n",
    "    scores = get_scores(spots['data'], context.phrases)\n",
    "    \n",
    "    return scores\n",
    "\n",
    "def test_collection(collection, service_url, filter_policy = 'NONE'):\n",
    "    results = []\n",
    "    for context in collection.contexts:\n",
    "        result = _test_context(context, service_url, filter_policy)\n",
    "        result['uri'] = context.uri\n",
    "        results.append(result)\n",
    "        time.sleep(0.5)\n",
    "    return pd.DataFrame(results)"
   ]
  },
  {
   "cell_type": "code",
   "execution_count": 8,
   "metadata": {},
   "outputs": [
    {
     "name": "stdout",
     "output_type": "stream",
     "text": [
      "   tp  fp  fn  precision    recall        f1  \\\n",
      "0   4   6   2   0.400000  0.666667  0.500000   \n",
      "1   2   6   1   0.250000  0.666667  0.363636   \n",
      "2   3   3   2   0.500000  0.600000  0.545455   \n",
      "3   5   4   2   0.555556  0.714286  0.625000   \n",
      "4   3   2   1   0.600000  0.750000  0.666667   \n",
      "\n",
      "                                                 uri  \n",
      "0  http://www.ontologydesignpatterns.org/data/oke...  \n",
      "1  http://www.ontologydesignpatterns.org/data/oke...  \n",
      "2  http://www.ontologydesignpatterns.org/data/oke...  \n",
      "3  http://www.ontologydesignpatterns.org/data/oke...  \n",
      "4  http://www.ontologydesignpatterns.org/data/oke...  \n",
      "   tp  fp  fn  precision    recall        f1  \\\n",
      "0   5   6   3   0.454545  0.625000  0.526316   \n",
      "1   7   3   4   0.700000  0.636364  0.666667   \n",
      "2   2   4   3   0.333333  0.400000  0.363636   \n",
      "3  11   1   2   0.916667  0.846154  0.880000   \n",
      "4  13   3   3   0.812500  0.812500  0.812500   \n",
      "\n",
      "                                                 uri  \n",
      "0  http://www.ontologydesignpatterns.org/data/oke...  \n",
      "1  http://www.ontologydesignpatterns.org/data/oke...  \n",
      "2  http://www.ontologydesignpatterns.org/data/oke...  \n",
      "3  http://www.ontologydesignpatterns.org/data/oke...  \n",
      "4  http://www.ontologydesignpatterns.org/data/oke...  \n"
     ]
    }
   ],
   "source": [
    "scores_spotlight = test_collection(oke_task1_col, 'http://localhost:4010/annotate')\n",
    "print(scores_spotlight.head())\n",
    "\n",
    "scores_spotlight2 = test_collection(oke_task2_col, 'http://localhost:4010/annotate')\n",
    "print(scores_spotlight2.head())"
   ]
  },
  {
   "cell_type": "code",
   "execution_count": 9,
   "metadata": {},
   "outputs": [
    {
     "name": "stdout",
     "output_type": "stream",
     "text": [
      "   tp  fp  fn  precision    recall        f1  \\\n",
      "0   4   2   2   0.666667  0.666667  0.666667   \n",
      "1   3   3   0   0.500000  1.000000  0.666667   \n",
      "2   5   2   0   0.714286  1.000000  0.833333   \n",
      "3   5   1   2   0.833333  0.714286  0.769231   \n",
      "4   4   1   0   0.800000  1.000000  0.888889   \n",
      "\n",
      "                                                 uri  \n",
      "0  http://www.ontologydesignpatterns.org/data/oke...  \n",
      "1  http://www.ontologydesignpatterns.org/data/oke...  \n",
      "2  http://www.ontologydesignpatterns.org/data/oke...  \n",
      "3  http://www.ontologydesignpatterns.org/data/oke...  \n",
      "4  http://www.ontologydesignpatterns.org/data/oke...  \n",
      "   tp  fp  fn  precision    recall        f1  \\\n",
      "0   4   2   4   0.666667  0.500000  0.571429   \n",
      "1   5   4   6   0.555556  0.454545  0.500000   \n",
      "2   4   2   1   0.666667  0.800000  0.727273   \n",
      "3  11   1   2   0.916667  0.846154  0.880000   \n",
      "4   7   2   9   0.777778  0.437500  0.560000   \n",
      "\n",
      "                                                 uri  \n",
      "0  http://www.ontologydesignpatterns.org/data/oke...  \n",
      "1  http://www.ontologydesignpatterns.org/data/oke...  \n",
      "2  http://www.ontologydesignpatterns.org/data/oke...  \n",
      "3  http://www.ontologydesignpatterns.org/data/oke...  \n",
      "4  http://www.ontologydesignpatterns.org/data/oke...  \n"
     ]
    }
   ],
   "source": [
    "scores_fox = test_collection(oke_task1_col, 'http://localhost:4020/annotate')\n",
    "print(scores_fox.head())\n",
    "\n",
    "scores_fox2 = test_collection(oke_task2_col, 'http://localhost:4020/annotate')\n",
    "print(scores_fox2.head())"
   ]
  },
  {
   "cell_type": "code",
   "execution_count": 10,
   "metadata": {},
   "outputs": [
    {
     "name": "stdout",
     "output_type": "stream",
     "text": [
      "   tp  fp  fn  precision    recall        f1  \\\n",
      "0   4   3   2   0.571429  0.666667  0.615385   \n",
      "1   2   4   1   0.333333  0.666667  0.444444   \n",
      "2   3   3   2   0.500000  0.600000  0.545455   \n",
      "3   2   1   5   0.666667  0.285714  0.400000   \n",
      "4   2   1   2   0.666667  0.500000  0.571429   \n",
      "\n",
      "                                                 uri  \n",
      "0  http://www.ontologydesignpatterns.org/data/oke...  \n",
      "1  http://www.ontologydesignpatterns.org/data/oke...  \n",
      "2  http://www.ontologydesignpatterns.org/data/oke...  \n",
      "3  http://www.ontologydesignpatterns.org/data/oke...  \n",
      "4  http://www.ontologydesignpatterns.org/data/oke...  \n",
      "   tp  fp  fn  precision    recall        f1  \\\n",
      "0   2   2   6      0.500  0.250000  0.333333   \n",
      "1   5   3   6      0.625  0.454545  0.526316   \n",
      "2   3   2   2      0.600  0.600000  0.600000   \n",
      "3   8   2   5      0.800  0.615385  0.695652   \n",
      "4   6   2  10      0.750  0.375000  0.500000   \n",
      "\n",
      "                                                 uri  \n",
      "0  http://www.ontologydesignpatterns.org/data/oke...  \n",
      "1  http://www.ontologydesignpatterns.org/data/oke...  \n",
      "2  http://www.ontologydesignpatterns.org/data/oke...  \n",
      "3  http://www.ontologydesignpatterns.org/data/oke...  \n",
      "4  http://www.ontologydesignpatterns.org/data/oke...  \n"
     ]
    }
   ],
   "source": [
    "scores_tagme = test_collection(oke_task1_col, 'http://localhost:4030/annotate')\n",
    "print(scores_tagme.head())\n",
    "\n",
    "scores_tagme2 = test_collection(oke_task2_col, 'http://localhost:4030/annotate')\n",
    "print(scores_tagme2.head())"
   ]
  },
  {
   "cell_type": "code",
   "execution_count": 12,
   "metadata": {},
   "outputs": [
    {
     "name": "stdout",
     "output_type": "stream",
     "text": [
      "   tp  fp  fn  precision    recall        f1  \\\n",
      "0   5   9   1   0.357143  0.833333  0.500000   \n",
      "1   3   8   0   0.272727  1.000000  0.428571   \n",
      "2   5   6   0   0.454545  1.000000  0.625000   \n",
      "3   6   4   1   0.600000  0.857143  0.705882   \n",
      "4   4   3   0   0.571429  1.000000  0.727273   \n",
      "\n",
      "                                                 uri  \n",
      "0  http://www.ontologydesignpatterns.org/data/oke...  \n",
      "1  http://www.ontologydesignpatterns.org/data/oke...  \n",
      "2  http://www.ontologydesignpatterns.org/data/oke...  \n",
      "3  http://www.ontologydesignpatterns.org/data/oke...  \n",
      "4  http://www.ontologydesignpatterns.org/data/oke...  \n",
      "   tp  fp  fn  precision    recall        f1  \\\n",
      "0   6   8   2   0.428571  0.750000  0.545455   \n",
      "1   9   5   2   0.642857  0.818182  0.720000   \n",
      "2   5   5   0   0.500000  1.000000  0.666667   \n",
      "3  12   3   1   0.800000  0.923077  0.857143   \n",
      "4  13   3   3   0.812500  0.812500  0.812500   \n",
      "\n",
      "                                                 uri  \n",
      "0  http://www.ontologydesignpatterns.org/data/oke...  \n",
      "1  http://www.ontologydesignpatterns.org/data/oke...  \n",
      "2  http://www.ontologydesignpatterns.org/data/oke...  \n",
      "3  http://www.ontologydesignpatterns.org/data/oke...  \n",
      "4  http://www.ontologydesignpatterns.org/data/oke...  \n"
     ]
    }
   ],
   "source": [
    "scores_all_none = test_collection(oke_task1_col, 'http://localhost:4040/annotate')\n",
    "print(scores_all_none.head())\n",
    "\n",
    "scores_all_none2 = test_collection(oke_task2_col, 'http://localhost:4040/annotate')\n",
    "print(scores_all_none2.head())"
   ]
  },
  {
   "cell_type": "code",
   "execution_count": 13,
   "metadata": {},
   "outputs": [
    {
     "name": "stdout",
     "output_type": "stream",
     "text": [
      "   tp  fp  fn  precision    recall        f1  \\\n",
      "0   4   2   2   0.666667  0.666667  0.666667   \n",
      "1   2   3   1   0.400000  0.666667  0.500000   \n",
      "2   4   2   1   0.666667  0.800000  0.727273   \n",
      "3   5   2   2   0.714286  0.714286  0.714286   \n",
      "4   3   0   1   1.000000  0.750000  0.857143   \n",
      "\n",
      "                                                 uri  \n",
      "0  http://www.ontologydesignpatterns.org/data/oke...  \n",
      "1  http://www.ontologydesignpatterns.org/data/oke...  \n",
      "2  http://www.ontologydesignpatterns.org/data/oke...  \n",
      "3  http://www.ontologydesignpatterns.org/data/oke...  \n",
      "4  http://www.ontologydesignpatterns.org/data/oke...  \n",
      "   tp  fp  fn  precision    recall        f1  \\\n",
      "0   3   1   5      0.750  0.375000  0.500000   \n",
      "1   6   2   5      0.750  0.545455  0.631579   \n",
      "2   2   3   3      0.400  0.400000  0.400000   \n",
      "3  10   0   3      1.000  0.769231  0.869565   \n",
      "4   7   1   9      0.875  0.437500  0.583333   \n",
      "\n",
      "                                                 uri  \n",
      "0  http://www.ontologydesignpatterns.org/data/oke...  \n",
      "1  http://www.ontologydesignpatterns.org/data/oke...  \n",
      "2  http://www.ontologydesignpatterns.org/data/oke...  \n",
      "3  http://www.ontologydesignpatterns.org/data/oke...  \n",
      "4  http://www.ontologydesignpatterns.org/data/oke...  \n"
     ]
    }
   ],
   "source": [
    "scores_all_r_singles = test_collection(oke_task1_col, 'http://localhost:4040/annotate', filter_policy='REMOVE_SINGLE_SPOTS')\n",
    "print(scores_all_r_singles.head())\n",
    "\n",
    "scores_all_r_singles2 = test_collection(oke_task2_col, 'http://localhost:4040/annotate', filter_policy='REMOVE_SINGLE_SPOTS')\n",
    "print(scores_all_r_singles2.head())"
   ]
  },
  {
   "cell_type": "code",
   "execution_count": 14,
   "metadata": {},
   "outputs": [],
   "source": [
    "scores_spotlight.to_csv('scores/scores_spotlight_oke1.csv', index=False)\n",
    "scores_fox.to_csv('scores/scores_fox_oke1.csv', index=False)\n",
    "scores_tagme.to_csv('scores/scores_tagme_oke1.csv', index=False)\n",
    "scores_all_none.to_csv('scores/scores_all_none_oke1.csv', index=False)\n",
    "scores_all_r_singles.to_csv('scores/scores_all_r_singles_oke1.csv', index=False)\n",
    "\n",
    "scores_spotlight2.to_csv('scores/scores_spotlight_oke2.csv', index=False)\n",
    "scores_fox2.to_csv('scores/scores_fox_oke2.csv', index=False)\n",
    "scores_tagme2.to_csv('scores/scores_tagme_oke2.csv', index=False)\n",
    "scores_all_none2.to_csv('scores/scores_all_none_oke2.csv', index=False)\n",
    "scores_all_r_singles2.to_csv('scores/scores_all_r_singles_oke2.csv', index=False)"
   ]
  }
 ],
 "metadata": {
  "kernelspec": {
   "display_name": "Python 3",
   "language": "python",
   "name": "python3"
  },
  "language_info": {
   "codemirror_mode": {
    "name": "ipython",
    "version": 3
   },
   "file_extension": ".py",
   "mimetype": "text/x-python",
   "name": "python",
   "nbconvert_exporter": "python",
   "pygments_lexer": "ipython3",
   "version": "3.7.5"
  }
 },
 "nbformat": 4,
 "nbformat_minor": 2
}
